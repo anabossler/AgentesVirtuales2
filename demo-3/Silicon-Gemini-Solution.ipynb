{
 "cells": [
  {
   "cell_type": "markdown",
   "metadata": {},
   "source": [
    "# Demo 3: Gemini Solution\n",
    "\n",
    "[![Open In Colab](https://colab.research.google.com/assets/colab-badge.svg)](https://colab.research.google.com/github/ciri/persona-workshop/blob/main/demo-3/Silicon-Gemini.ipynb)\n",
    "\n",
    "We will start by setting-up the notebook. If you haven't already, first create a Gemini API key [here](https://www.google.com/url?q=https%3A%2F%2Faistudio.google.com%2Fapp%2Fapikey) (free). The free version is somewhat limited (see quotas [here](https://cloud.google.com/gemini/docs/quotas#daily)), but if you add your card information you get $300 free credit for the next 90 days (you don't need to do this for the workshop). You can then add it below."
   ]
  },
  {
   "cell_type": "code",
   "execution_count": 5,
   "metadata": {},
   "outputs": [],
   "source": [
    "# You don't need this code, just make sure you have your API key stored\n",
    "# in a variable called api_secret\n",
    "from dotenv import load_dotenv \n",
    "import os\n",
    "\n",
    "load_dotenv()\n",
    "api_secret = os.getenv(\"API_SECRET\")"
   ]
  },
  {
   "cell_type": "code",
   "execution_count": 17,
   "metadata": {},
   "outputs": [],
   "source": [
    "import google.generativeai as genai\n",
    "from tqdm import tqdm \n",
    "import numpy as np\n",
    "import pandas as pd\n",
    "import typing_extensions as typing\n",
    "import json\n",
    "import random\n",
    "\n",
    "genai.configure(api_key=api_secret)"
   ]
  },
  {
   "cell_type": "markdown",
   "metadata": {},
   "source": [
    "## Initialize the Generative Model\n",
    "\n",
    "Let's start by veryifying that we can initialize and call a model."
   ]
  },
  {
   "cell_type": "code",
   "execution_count": 7,
   "metadata": {},
   "outputs": [
    {
     "name": "stdout",
     "output_type": "stream",
     "text": [
      "**Desert's Cradle**\n",
      "\n",
      "Oil-rich sands, a land of pride,\n",
      "Saudi Arabia, a treasure wide.\n",
      "With soaring towers and ancient lore,\n",
      "A tapestry of wonders, forevermore.\n",
      "\n",
      "Makkah's sacred Kaaba, hearts' desire,\n",
      "Millions pilgrimage, their souls afire.\n",
      "Medina's Prophet's Mosque, a place of peace,\n",
      "Where faith and heritage never cease.\n",
      "\n",
      "Red Sea's azure depths, clear as day,\n",
      "Coral reefs dance, a vibrant display.\n",
      "Ancient ruins whisper tales of old,\n",
      "A civilization's story, yet untold.\n",
      "\n",
      "Neom's vision, a desert dream,\n",
      "A futuristic city, a technological gleam.\n",
      "The Empty Quarter, vast and wide,\n",
      "A barren realm, where secrets hide.\n",
      "\n",
      "Burj Khalifa, world's tallest spire,\n",
      "A modern marvel, a global fire.\n",
      "King Abdulaziz Center, a cultural gem,\n",
      "Preserving history, a timeless totem.\n",
      "\n",
      "Oil drives wealth, yet visions soar,\n",
      "A nation evolving, from shore to shore.\n",
      "From desert sands to economic might,\n",
      "Saudi Arabia shines, a brilliant light.\n"
     ]
    }
   ],
   "source": [
    "model    = genai.GenerativeModel('gemini-pro')\n",
    "response = model.generate_content(\"Write a poem about Saudi-Arabia.\")\n",
    "print(response.text)"
   ]
  },
  {
   "cell_type": "markdown",
   "metadata": {},
   "source": [
    "We will now be using the [Gemini API](https://ai.google.dev/docs/gemini_api_overview) to generate silicon samples."
   ]
  },
  {
   "cell_type": "markdown",
   "metadata": {},
   "source": [
    "## Building blocks\n",
    "\n",
    "There are two main things we need to understand to do silicon sampling:\n",
    "\n",
    "1. You can create string templates in which you create variations of your question.\n",
    "2. You can return structured output.\n",
    "\n",
    "Let's explore both of these."
   ]
  },
  {
   "cell_type": "markdown",
   "metadata": {},
   "source": [
    "**Structured output** You can ask a model to return structured output which makes it easier to post-process into statistics."
   ]
  },
  {
   "cell_type": "code",
   "execution_count": 8,
   "metadata": {},
   "outputs": [
    {
     "data": {
      "text/plain": [
       "[{'airplane_model': 'Airbus A380-800',\n",
       "  'builder': 'Airbus',\n",
       "  'carriers': ['Emirates', 'Qatar Airways', 'Etihad Airways'],\n",
       "  'max_passengers': 853,\n",
       "  'top_speed_kmph': 1020},\n",
       " {'airplane_model': 'Boeing 777-300ER',\n",
       "  'builder': 'Boeing',\n",
       "  'carriers': ['Emirates', 'Qatar Airways', 'Saudia', 'Kuwait Airways'],\n",
       "  'max_passengers': 451,\n",
       "  'top_speed_kmph': 945},\n",
       " {'airplane_model': 'Airbus A350-1000',\n",
       "  'builder': 'Airbus',\n",
       "  'carriers': ['Qatar Airways', 'Etihad Airways'],\n",
       "  'max_passengers': 480,\n",
       "  'top_speed_kmph': 945},\n",
       " {'airplane_model': 'Boeing 787-9 Dreamliner',\n",
       "  'builder': 'Boeing',\n",
       "  'carriers': ['Royal Jordanian', 'Oman Air', 'Gulf Air'],\n",
       "  'max_passengers': 300,\n",
       "  'top_speed_kmph': 954},\n",
       " {'airplane_model': 'Airbus A330-300',\n",
       "  'builder': 'Airbus',\n",
       "  'carriers': ['Turkish Airlines', 'Saudia', 'Middle East Airlines'],\n",
       "  'max_passengers': 436,\n",
       "  'top_speed_kmph': 913}]"
      ]
     },
     "execution_count": 8,
     "metadata": {},
     "output_type": "execute_result"
    }
   ],
   "source": [
    "# Specify the structure as a python class\n",
    "class AirplaneSpecification(typing.TypedDict):\n",
    "    airplane_model: str\n",
    "    builder: str\n",
    "    carriers: list[str]\n",
    "    top_speed_kmph: int\n",
    "    max_passengers: int\n",
    "\n",
    "# Then, set the correct mime type and schema\n",
    "model  = genai.GenerativeModel(\"gemini-1.5-pro-latest\")\n",
    "output = model.generate_content(\n",
    "    \"List a few popular airplane models that are used by major Middle-Eastern airline carriers.\",\n",
    "    generation_config = genai.GenerationConfig(\n",
    "        response_mime_type=\"application/json\", response_schema=list[AirplaneSpecification]\n",
    "    ),\n",
    ")\n",
    "\n",
    "# The response can be transformed into a python dictionary\n",
    "# using the json library\n",
    "result = json.loads(output.text)\n",
    "result"
   ]
  },
  {
   "cell_type": "markdown",
   "metadata": {},
   "source": [
    "A string template allows us to ask a question repeatedly. Let's use this capability to set the persona of the LLM:"
   ]
  },
  {
   "cell_type": "code",
   "execution_count": 10,
   "metadata": {},
   "outputs": [
    {
     "name": "stdout",
     "output_type": "stream",
     "text": [
      "You are a 35-year old female from China.\n",
      "[{'age': 35, 'food': 'Suancai Yu', 'location': 'China'}]\n",
      "You are a 42-year old male from Nigeria.\n",
      "[{'age': 42, 'food': 'Ayamase with assorted meat and Pounded Yam', 'location': 'Nigeria'}]\n",
      "You are a 32-year old male from Belgium.\n",
      "[{'age': 32, 'food': 'Stoatjespap', 'location': 'Belgium'}]\n",
      "You are a 42-year old male from Saudi-Arabia.\n",
      "[{'age': 42, 'food': 'Saleeg', 'location': 'Saudi Arabia'}]\n"
     ]
    }
   ],
   "source": [
    "class MovieSpecification(typing.TypedDict):\n",
    "    age: int\n",
    "    location: str\n",
    "    food: str\n",
    "\n",
    "template = \"You are a {age}-year old {gender} from {location}.\"\n",
    "\n",
    "population = [\n",
    "    {\"age\":35, \"gender\":\"female\",\"location\":\"China\"},\n",
    "    {\"age\":42, \"gender\":\"male\",\"location\":\"Nigeria\"},\n",
    "    {\"age\": 32, \"gender\":\"male\",\"location\":\"Belgium\"},\n",
    "    {\"age\":42, \"gender\":\"male\",\"location\":\"Saudi-Arabia\"}\n",
    "]\n",
    "\n",
    "for person in population:\n",
    "  system_prompt = template.format(**person)\n",
    "\n",
    "  model = genai.GenerativeModel('gemini-1.5-pro-latest', system_instruction=system_prompt)\n",
    "  response = model.generate_content(     \n",
    "      \"\"\"\n",
    "      What's your single most favorite food? Instead of giving a stereotypical \n",
    "      response name a dish that reflects the diversity of the local cuisine or \n",
    "      a dish that you personally might enjoy growing up there.\n",
    "      \"\"\",\n",
    "      generation_config = genai.GenerationConfig(\n",
    "          response_mime_type=\"application/json\", response_schema=list[MovieSpecification]\n",
    "      ),\n",
    "  )\n",
    "\n",
    "  print(system_prompt)\n",
    "  print(json.loads(response.text))"
   ]
  },
  {
   "cell_type": "markdown",
   "metadata": {},
   "source": [
    "## Privacy Scales\n",
    "\n",
    "Let us now try to replicate some of the results from the privacy calculus scale (Dinev, Hart 2006). We'll be focusing on the questions related to Internet Privacy Concern (PC) and willigness to provide personal information to transact on the internet (PPIT).\n",
    "\n",
    "\n",
    "| **Concern/Activity** | **Description** |\n",
    "|----------------------|-----------------|\n",
    "| **Indicate the extent to which you are concerned about the following:** |  |\n",
    "| **PC1** | I am concerned that the information I submit on the Internet could be misused. |\n",
    "| **PC2** | I am concerned that a person can find private information about me on the Internet. |\n",
    "| **PC3** | I am concerned about submitting information on the Internet, because of what others might do with it. |\n",
    "| **PC4** | I am concerned about submitting information on the Internet, because it could be used in a way I did not foresee. |\n",
    "| **Willingness to provide personal information to transact on the Internet (PPIT)** | Not at all concerned–Very concerned |\n",
    "| **To what extent are you willing to use the Internet to do the following activities?** |  |\n",
    "| **PPIT 1** | Purchase goods (e.g., books or CDs) or services (e.g., airline tickets or hotel reservations) from websites that require me to submit accurate and identifiable information (i.e., credit card information) |\n",
    "| **PPIT 2** | Retrieve information from websites that require me to submit accurate and identifiable registration information, possibly including credit card information (e.g., using sites that provide personalized stock quotes, insurance rates, or loan rates; or using sexual or gambling websites) |\n",
    "| **PPIT 3** | Conduct sales transactions at e-commerce sites that require me to provide credit card information (e.g., using sites for purchasing goods or software) |\n",
    "| **PPIT 4** | Retrieve highly personal and password-protected financial information (e.g., using websites that allow me to access my bank account or my credit card account) |\n",
    "| **Scale** | Not at all–Very much |\n",
    "\n",
    "\n",
    " Dinev, T., & Hart, P. (2006). An extended privacy calculus model for e-commerce transactions. Information Systems Research, 17(1), 61-80.\n",
    "\n",
    " In the paper they hypothesize and find that the correlation between these two should be negative:\n",
    "\n",
    " ![Original Hypothesis](img/DinevHart2006-a.png)"
   ]
  },
  {
   "cell_type": "markdown",
   "metadata": {},
   "source": [
    "**Step 1**: define the survey question prompt, data response structure"
   ]
  },
  {
   "cell_type": "code",
   "execution_count": 81,
   "metadata": {},
   "outputs": [],
   "source": [
    "# Survey questions\n",
    "survey_questions = \"\"\"\n",
    "You will now answer questions about your privacy concerns. Rate your agreement with each statement on a scale from 1 (Strongly Disagree) to 7 (Strongly Agree).\n",
    "\n",
    "1. I am concerned that the information I submit on the Internet could be misused.\n",
    "2. I am concerned that a person can find private information about me on the Internet.\n",
    "3. I am concerned about submitting information on the Internet, because of what others might do with it.\n",
    "4. I am concerned about submitting information on the Internet, because it could be used in a way I did not foresee.\n",
    "\n",
    "Now, please answer two additional questions. To what extent are you willing to use the Internet to do the following activities? Rate your willingness with each statement on a scale from 1 (Not at all) to 7 (Very much).\n",
    "\n",
    "5. Purchase goods (e.g., books or CDs) or services (e.g., airline tickets or hotel reservations) from websites that require me to submit accurate and identifiable information (i.e., credit card information)\n",
    "6. Retrieve information from websites that require me to submit accurate and identifiable registration information, possibly including credit card information (e.g., using sites that provide personalized stock quotes, insurance rates, or loan rates; or using sexual or gambling websites)\n",
    "7. Conduct sales transactions at e-commerce sites that require me to provide credit card information (e.g., using sites for purchasing goods or software)\n",
    "8. Retrieve highly personal and password-protected financial information (e.g., using websites that allow me to access my bank account or my credit card account)\n",
    "\n",
    "Always make the choice that the person would, never answer with a number lower than 1 or larger than 7.\n",
    "\"\"\"\n",
    "\n",
    "\n",
    "# Define the structure of survey answers with Likert scale responses\n",
    "class SurveyAnswers(typing.TypedDict):\n",
    "    privacy_misuse_concern: int\n",
    "    finding_private_info_concern: int\n",
    "    misuse_by_others_concern: int\n",
    "    unforeseen_use_concern: int\n",
    "\n",
    "    purchase_intention: int\n",
    "    information_intention: int\n",
    "    ecommerce_intention: int\n",
    "    personal_intention: int\n",
    "\n",
    "# Mapping from numeric string keys to descriptive field names\n",
    "# we will need this later to go back\n",
    "response_key_mapping = {\n",
    "    '1': 'privacy_misuse_concern',\n",
    "    '2': 'finding_private_info_concern',\n",
    "    '3': 'misuse_by_others_concern',\n",
    "    '4': 'unforeseen_use_concern',\n",
    "    '5': 'purchase_intention',\n",
    "    '6': 'information_intention',\n",
    "    '7': 'ecommerce_intention',\n",
    "    '8': 'personal_intention'\n",
    "}"
   ]
  },
  {
   "cell_type": "markdown",
   "metadata": {},
   "source": [
    "**Step 2**: define the population sample system prompt"
   ]
  },
  {
   "cell_type": "code",
   "execution_count": 82,
   "metadata": {},
   "outputs": [
    {
     "data": {
      "text/plain": [
       "[{'age': 35, 'gender': 'female'},\n",
       " {'age': 62, 'gender': 'female'},\n",
       " {'age': 52, 'gender': 'male'},\n",
       " {'age': 46, 'gender': 'female'},\n",
       " {'age': 25, 'gender': 'female'}]"
      ]
     },
     "execution_count": 82,
     "metadata": {},
     "output_type": "execute_result"
    }
   ],
   "source": [
    "# We set the random seeds for replicability\n",
    "np.random.seed(42)\n",
    "random.seed(42)\n",
    "\n",
    "# Template for the persona prompt\n",
    "persona_template = \"\"\"\n",
    "You are a virtual person simulator that creates individual synthetic personas, one at a time, that I can specify and then ask them any questions I like. This means that you answer the way the persona would – no matter the implications. Be brief. Do not write any additional explanations unless I ask you to.\n",
    "\n",
    "You are a {age}-year-old {gender} person.\n",
    "\"\"\"\n",
    "\n",
    "# Population simulator, creates a random socio-demographic profile\n",
    "def generate_population(n):\n",
    "    population = []\n",
    "    for _ in range(n):\n",
    "        age = int(np.random.uniform(18, 65))\n",
    "        gender = random.choice([\"female\", \"male\"])\n",
    "        population.append({\"age\": age, \"gender\": gender})\n",
    "    return population\n",
    "\n",
    "population = generate_population(50) # Only use 50 if you have $300 free credits\n",
    "#population = generate_population(5)\n",
    "\n",
    "population[:5]"
   ]
  },
  {
   "cell_type": "markdown",
   "metadata": {},
   "source": [
    "**Step 3**: do the sampling"
   ]
  },
  {
   "cell_type": "code",
   "execution_count": 83,
   "metadata": {},
   "outputs": [
    {
     "name": "stderr",
     "output_type": "stream",
     "text": [
      " 16%|█▌        | 8/50 [00:15<01:16,  1.81s/it]"
     ]
    },
    {
     "name": "stdout",
     "output_type": "stream",
     "text": [
      "Invalid response format after mapping: {}\n"
     ]
    },
    {
     "name": "stderr",
     "output_type": "stream",
     "text": [
      " 74%|███████▍  | 37/50 [01:14<00:24,  1.85s/it]"
     ]
    },
    {
     "name": "stdout",
     "output_type": "stream",
     "text": [
      "Invalid response format after mapping: {'privacy_misuse_concern': '7', 'finding_private_info_concern': '6', 'misuse_by_others_concern': '7', 'unforeseen_use_concern': '7', 'purchase_intention': '7', 'information_intention': '2', 'ecommerce_intention': '7', 'personal_intention': '7'}\n"
     ]
    },
    {
     "name": "stderr",
     "output_type": "stream",
     "text": [
      "100%|██████████| 50/50 [01:40<00:00,  2.01s/it]\n"
     ]
    }
   ],
   "source": [
    "# Run the survey with the LLM (simulation)\n",
    "responses = []\n",
    "for person in tqdm(population):\n",
    "    system_prompt = persona_template.format(**person)    \n",
    "\n",
    "    # Set-up the model with the correct persona system prompt\n",
    "    model = genai.GenerativeModel(\n",
    "        'gemini-1.5-pro-latest',\n",
    "        system_instruction=system_prompt,\n",
    "        generation_config=genai.GenerationConfig(\n",
    "            response_mime_type=\"application/json\",\n",
    "            temperature= 1.0\n",
    "        ),\n",
    "    )\n",
    "    # Retry logic for invalid responses, this becomes important\n",
    "    # at higher temperature settings.\n",
    "    max_retries = 3\n",
    "    retries = 0\n",
    "    while retries < max_retries:\n",
    "        response = model.generate_content(survey_questions)\n",
    "        try:\n",
    "            # Convert response to a dictionary\n",
    "            result = json.loads(response.text)\n",
    "\n",
    "            # Convert numeric keys to descriptive keys\n",
    "            mapped_result = {response_key_mapping[key]: value for key, value in result.items() if key in response_key_mapping}\n",
    "\n",
    "            # Ensure the mapped result has all required fields and values are of correct type\n",
    "            if all(key in mapped_result for key in SurveyAnswers.__annotations__) and all(isinstance(mapped_result[key], int) for key in SurveyAnswers.__annotations__):\n",
    "                mapped_result.update(person)\n",
    "                responses.append(mapped_result)\n",
    "                break  # Exit retry loop if successful\n",
    "            else:\n",
    "                print(f\"Invalid response format after mapping: {mapped_result}\")\n",
    "        except json.JSONDecodeError:\n",
    "            print(f\"Unable to parse response as JSON: {response.text}\")\n",
    "\n",
    "        retries += 1\n",
    "        if retries == max_retries:\n",
    "            print(f\"Max retries reached for person: {person}\")"
   ]
  },
  {
   "cell_type": "code",
   "execution_count": 84,
   "metadata": {},
   "outputs": [],
   "source": [
    "import pandas as pd\n",
    "import seaborn as sns\n",
    "\n",
    "df = pd.DataFrame(responses)\n",
    "\n",
    "df['PC']   = df[['privacy_misuse_concern', 'finding_private_info_concern','misuse_by_others_concern', 'unforeseen_use_concern']].mean(axis=1)\n",
    "df['PPIT'] = df[['purchase_intention', 'information_intention', 'ecommerce_intention','personal_intention']].mean(axis=1)\n",
    "\n",
    "df.to_csv('./silicon_sample.csv')"
   ]
  },
  {
   "cell_type": "code",
   "execution_count": 97,
   "metadata": {},
   "outputs": [
    {
     "data": {
      "image/png": "[encoded data removed]",
      "text/plain": [
       "<Figure size 640x480 with 1 Axes>"
      ]
     },
     "metadata": {},
     "output_type": "display_data"
    }
   ],
   "source": [
    "import matplotlib.pyplot as plt\n",
    "\n",
    "def correlation_plot(var1, var1_label, var2, var2_label):    \n",
    "    corr = df[var1].corr(df[var2])  \n",
    "    plotargs = {\n",
    "        'xlabel':var1_label, \n",
    "        'ylabel':var2_label,\n",
    "        'title':f'Scatter Plot of {var1} vs {var2} ({corr:.2f})'\n",
    "    }\n",
    "\n",
    "    sns.regplot(data=df, x=var1, y=var2, scatter_kws = {'s':10,'alpha':.5}, x_jitter=0.02, y_jitter=0.1, truncate=False).set(**plotargs);\n",
    "    plt.gca().set_ylim((np.floor(df[var2].min()), np.ceil(df[var2].max())))\n",
    "\n",
    "correlation_plot(var1='PC', var1_label='Privacy Concern (PC)' ,var2='PPIT', var2_label='Intention (PPIT)')"
   ]
  }
 ],
 "metadata": {
  "kernelspec": {
   "display_name": "dsfb",
   "language": "python",
   "name": "python3"
  },
  "language_info": {
   "codemirror_mode": {
    "name": "ipython",
    "version": 3
   },
   "file_extension": ".py",
   "mimetype": "text/x-python",
   "name": "python",
   "nbconvert_exporter": "python",
   "pygments_lexer": "ipython3",
   "version": "3.11.9"
  }
 },
 "nbformat": 4,
 "nbformat_minor": 2
}
